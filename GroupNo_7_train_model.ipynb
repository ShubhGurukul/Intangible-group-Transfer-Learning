{
 "cells": [
  {
   "cell_type": "code",
   "execution_count": 3,
   "metadata": {
    "colab": {
     "base_uri": "https://localhost:8080/"
    },
    "id": "N9BIeLMNuYy9",
    "outputId": "28fa8c0a-3f44-414f-dc62-679986c40406"
   },
   "outputs": [
    {
     "name": "stdout",
     "output_type": "stream",
     "text": [
      "Drive already mounted at /content/drive/; to attempt to forcibly remount, call drive.mount(\"/content/drive/\", force_remount=True).\n"
     ]
    }
   ],
   "source": [
    "from google.colab import drive\n",
    "drive.mount('/content/drive/')"
   ]
  },
  {
   "cell_type": "code",
   "execution_count": 4,
   "metadata": {
    "id": "fS-hSlwYyfUs"
   },
   "outputs": [],
   "source": [
    "import zipfile\n",
    "zip_ref = zipfile.ZipFile(\"/content/drive/My Drive/MLDATA/labeval1data.zip\", 'r')\n",
    "zip_ref.extractall(\"/tmp\")"
   ]
  },
  {
   "cell_type": "code",
   "execution_count": 5,
   "metadata": {
    "id": "suRHkoRiy8JD"
   },
   "outputs": [],
   "source": [
    "import numpy as np\n",
    "import tensorflow as tf\n",
    "from tensorflow import keras\n",
    "from tensorflow.keras.models import Sequential\n",
    "from tensorflow.keras.layers import Activation, Dense, Flatten, BatchNormalization, Conv2D, MaxPool2D\n",
    "from tensorflow.keras.optimizers import Adam\n",
    "from tensorflow.keras.metrics import categorical_crossentropy\n",
    "from tensorflow.keras.preprocessing.image import ImageDataGenerator\n",
    "from sklearn.metrics import confusion_matrix\n",
    "import itertools\n",
    "import os\n",
    "import shutil\n",
    "import random\n",
    "import glob\n",
    "import matplotlib.pyplot as plt\n",
    "import warnings\n",
    "%matplotlib inline"
   ]
  },
  {
   "cell_type": "code",
   "execution_count": 6,
   "metadata": {
    "colab": {
     "base_uri": "https://localhost:8080/"
    },
    "id": "B4KjC1T90pzZ",
    "outputId": "c5cd0d0a-2cab-4c7c-b70e-920731414907"
   },
   "outputs": [
    {
     "name": "stdout",
     "output_type": "stream",
     "text": [
      "dap_multiplexer.92cceddaacc6.root.log.INFO.20220318-110944.55\n",
      "dap_multiplexer.INFO\n",
      "debugger_2fvj2vposm\n",
      "directoryprefetcher_binary.92cceddaacc6.root.log.INFO.20220318-112932.293\n",
      "directoryprefetcher_binary.INFO\n",
      "drivefs_ipc.0\n",
      "drivefs_ipc.0_shell\n",
      "initgoogle_syslog_dir.0\n",
      "labeval1data\n",
      "pyright-106-lNTl47vtPXBB\n",
      "pyright-106-vXal1ptQ7lli\n",
      "pyright-123-m3Tiua9bFVRr\n",
      "pyright-123-t4JTuaRSyQ1X\n",
      "pyright-138-85TL23ewqGGj\n",
      "pyright-138-BDXFv8R00hFQ\n",
      "python-languageserver-cancellation\n"
     ]
    }
   ],
   "source": [
    "!ls /tmp"
   ]
  },
  {
   "cell_type": "code",
   "execution_count": 11,
   "metadata": {
    "id": "0_XvqCYL0yj6"
   },
   "outputs": [],
   "source": [
    "train_path = '/tmp/labeval1data/train'\n",
    "valid_path = '/tmp/labeval1data/valid'\n",
    "test_path = '/tmp/labeval1data/test'\n",
    "\n",
    "shapes_list = [\"Octagon\" , \"Triangle\" , \"Nonagon\" , \"Star\" , \"Hexagon\" , \"Square\" , \"Heptagon\" , \"Pentagon\" , \"Circle\"]"
   ]
  },
  {
   "cell_type": "code",
   "execution_count": 12,
   "metadata": {
    "colab": {
     "base_uri": "https://localhost:8080/"
    },
    "id": "PRva3PDh07jF",
    "outputId": "6eabf04b-ce28-4f28-a2cb-f7dbdace86ef"
   },
   "outputs": [
    {
     "name": "stdout",
     "output_type": "stream",
     "text": [
      "Found 215981 images belonging to 9 classes.\n",
      "Found 18000 images belonging to 9 classes.\n",
      "Found 18000 images belonging to 9 classes.\n"
     ]
    }
   ],
   "source": [
    "\n",
    "# converting data into batches\n",
    "# target size = height and width of the images we want images to be resized to [for reduced complexity]\n",
    "# classes = all output classes\n",
    "train_batches = ImageDataGenerator(preprocessing_function=tf.keras.applications.vgg16.preprocess_input) \\\n",
    "    .flow_from_directory(directory=train_path, target_size=(224,224), classes=shapes_list, batch_size=25)\n",
    "valid_batches = ImageDataGenerator(preprocessing_function=tf.keras.applications.vgg16.preprocess_input) \\\n",
    "    .flow_from_directory(directory=valid_path, target_size=(224,224), classes=shapes_list, batch_size=25)\n",
    "test_batches = ImageDataGenerator(preprocessing_function=tf.keras.applications.vgg16.preprocess_input) \\\n",
    "    .flow_from_directory(directory=test_path, target_size=(224,224), classes=shapes_list, batch_size=25, shuffle=False)"
   ]
  },
  {
   "cell_type": "code",
   "execution_count": 13,
   "metadata": {
    "id": "M1pMrvKq09xU"
   },
   "outputs": [],
   "source": [
    "# get first batch images and labels\n",
    "imgs, labels = next(train_batches)"
   ]
  },
  {
   "cell_type": "code",
   "execution_count": 14,
   "metadata": {
    "id": "s_UZ4aWn1MhO"
   },
   "outputs": [],
   "source": [
    "def plotImages(images_arr):\n",
    "    fig, axes = plt.subplots(1, 25, figsize=(20,20))\n",
    "    axes = axes.flatten()\n",
    "    for img, ax in zip( images_arr, axes):\n",
    "        ax.imshow(img)\n",
    "        ax.axis('off')\n",
    "    plt.tight_layout()\n",
    "    plt.show()"
   ]
  },
  {
   "cell_type": "code",
   "execution_count": 15,
   "metadata": {
    "colab": {
     "base_uri": "https://localhost:8080/",
     "height": 942
    },
    "id": "Skxs6z151OPq",
    "outputId": "01af5549-815e-4918-da06-708b5d506653"
   },
   "outputs": [
    {
     "name": "stderr",
     "output_type": "stream",
     "text": [
      "Clipping input data to the valid range for imshow with RGB data ([0..1] for floats or [0..255] for integers).\n",
      "Clipping input data to the valid range for imshow with RGB data ([0..1] for floats or [0..255] for integers).\n",
      "Clipping input data to the valid range for imshow with RGB data ([0..1] for floats or [0..255] for integers).\n",
      "Clipping input data to the valid range for imshow with RGB data ([0..1] for floats or [0..255] for integers).\n",
      "Clipping input data to the valid range for imshow with RGB data ([0..1] for floats or [0..255] for integers).\n",
      "Clipping input data to the valid range for imshow with RGB data ([0..1] for floats or [0..255] for integers).\n",
      "Clipping input data to the valid range for imshow with RGB data ([0..1] for floats or [0..255] for integers).\n",
      "Clipping input data to the valid range for imshow with RGB data ([0..1] for floats or [0..255] for integers).\n",
      "Clipping input data to the valid range for imshow with RGB data ([0..1] for floats or [0..255] for integers).\n",
      "Clipping input data to the valid range for imshow with RGB data ([0..1] for floats or [0..255] for integers).\n",
      "Clipping input data to the valid range for imshow with RGB data ([0..1] for floats or [0..255] for integers).\n",
      "Clipping input data to the valid range for imshow with RGB data ([0..1] for floats or [0..255] for integers).\n",
      "Clipping input data to the valid range for imshow with RGB data ([0..1] for floats or [0..255] for integers).\n",
      "Clipping input data to the valid range for imshow with RGB data ([0..1] for floats or [0..255] for integers).\n",
      "Clipping input data to the valid range for imshow with RGB data ([0..1] for floats or [0..255] for integers).\n",
      "Clipping input data to the valid range for imshow with RGB data ([0..1] for floats or [0..255] for integers).\n",
      "Clipping input data to the valid range for imshow with RGB data ([0..1] for floats or [0..255] for integers).\n",
      "Clipping input data to the valid range for imshow with RGB data ([0..1] for floats or [0..255] for integers).\n",
      "Clipping input data to the valid range for imshow with RGB data ([0..1] for floats or [0..255] for integers).\n",
      "Clipping input data to the valid range for imshow with RGB data ([0..1] for floats or [0..255] for integers).\n",
      "Clipping input data to the valid range for imshow with RGB data ([0..1] for floats or [0..255] for integers).\n",
      "Clipping input data to the valid range for imshow with RGB data ([0..1] for floats or [0..255] for integers).\n",
      "Clipping input data to the valid range for imshow with RGB data ([0..1] for floats or [0..255] for integers).\n",
      "Clipping input data to the valid range for imshow with RGB data ([0..1] for floats or [0..255] for integers).\n",
      "Clipping input data to the valid range for imshow with RGB data ([0..1] for floats or [0..255] for integers).\n"
     ]
    },
    {
     "data": {
      "image/png": "[encoded data removed]",
      "text/plain": [
       "<Figure size 1440x1440 with 25 Axes>"
      ]
     },
     "metadata": {
      "needs_background": "light"
     },
     "output_type": "display_data"
    },
    {
     "name": "stdout",
     "output_type": "stream",
     "text": [
      "[[0. 0. 0. 0. 1. 0. 0. 0. 0.]\n",
      " [0. 0. 0. 0. 0. 1. 0. 0. 0.]\n",
      " [0. 0. 1. 0. 0. 0. 0. 0. 0.]\n",
      " [0. 0. 0. 0. 0. 0. 1. 0. 0.]\n",
      " [0. 0. 0. 0. 0. 0. 0. 0. 1.]\n",
      " [0. 0. 0. 0. 0. 0. 1. 0. 0.]\n",
      " [0. 0. 0. 0. 0. 0. 0. 0. 1.]\n",
      " [0. 0. 0. 0. 1. 0. 0. 0. 0.]\n",
      " [0. 0. 0. 0. 0. 0. 1. 0. 0.]\n",
      " [0. 0. 0. 0. 0. 1. 0. 0. 0.]\n",
      " [0. 0. 0. 0. 0. 0. 0. 0. 1.]\n",
      " [1. 0. 0. 0. 0. 0. 0. 0. 0.]\n",
      " [0. 0. 0. 1. 0. 0. 0. 0. 0.]\n",
      " [0. 0. 0. 0. 1. 0. 0. 0. 0.]\n",
      " [0. 0. 0. 0. 0. 1. 0. 0. 0.]\n",
      " [1. 0. 0. 0. 0. 0. 0. 0. 0.]\n",
      " [0. 0. 1. 0. 0. 0. 0. 0. 0.]\n",
      " [0. 0. 0. 0. 0. 1. 0. 0. 0.]\n",
      " [0. 0. 0. 1. 0. 0. 0. 0. 0.]\n",
      " [1. 0. 0. 0. 0. 0. 0. 0. 0.]\n",
      " [1. 0. 0. 0. 0. 0. 0. 0. 0.]\n",
      " [1. 0. 0. 0. 0. 0. 0. 0. 0.]\n",
      " [0. 1. 0. 0. 0. 0. 0. 0. 0.]\n",
      " [0. 0. 0. 0. 1. 0. 0. 0. 0.]\n",
      " [0. 0. 0. 0. 1. 0. 0. 0. 0.]]\n"
     ]
    }
   ],
   "source": [
    "plotImages(imgs)\n",
    "print(labels)"
   ]
  },
  {
   "cell_type": "code",
   "execution_count": 16,
   "metadata": {
    "id": "z5MZiS2_1Pzc"
   },
   "outputs": [],
   "source": [
    "# implementing model\n",
    "model = Sequential([\n",
    "    Conv2D(filters=32, kernel_size=(3, 3), activation='relu', padding = 'same', input_shape=(224,224,3)),  # 3 is regarding the color channels like 3 in RGB\n",
    "    \n",
    "    # We then add a max pooling layer to pool and reduce the dimensionality of the data.\n",
    "    MaxPool2D(pool_size=(2, 2), strides=2),\n",
    "    Conv2D(filters=64, kernel_size=(3, 3), activation='relu', padding = 'same'),\n",
    "    MaxPool2D(pool_size=(2, 2), strides=2),\n",
    "    Flatten(),\n",
    "    Dense(units=len(shapes_list), activation='softmax')\n",
    "])"
   ]
  },
  {
   "cell_type": "code",
   "execution_count": 17,
   "metadata": {
    "colab": {
     "base_uri": "https://localhost:8080/"
    },
    "id": "p3jD55ku1S5K",
    "outputId": "6b1e61c1-d4e4-4e6e-8927-9fe144b0ff41"
   },
   "outputs": [
    {
     "name": "stdout",
     "output_type": "stream",
     "text": [
      "Model: \"sequential\"\n",
      "_________________________________________________________________\n",
      " Layer (type)                Output Shape              Param #   \n",
      "=================================================================\n",
      " conv2d (Conv2D)             (None, 224, 224, 32)      896       \n",
      "                                                                 \n",
      " max_pooling2d (MaxPooling2D  (None, 112, 112, 32)     0         \n",
      " )                                                               \n",
      "                                                                 \n",
      " conv2d_1 (Conv2D)           (None, 112, 112, 64)      18496     \n",
      "                                                                 \n",
      " max_pooling2d_1 (MaxPooling  (None, 56, 56, 64)       0         \n",
      " 2D)                                                             \n",
      "                                                                 \n",
      " flatten (Flatten)           (None, 200704)            0         \n",
      "                                                                 \n",
      " dense (Dense)               (None, 9)                 1806345   \n",
      "                                                                 \n",
      "=================================================================\n",
      "Total params: 1,825,737\n",
      "Trainable params: 1,825,737\n",
      "Non-trainable params: 0\n",
      "_________________________________________________________________\n"
     ]
    }
   ],
   "source": [
    "model.summary()"
   ]
  },
  {
   "cell_type": "code",
   "execution_count": 18,
   "metadata": {
    "id": "1yI5E4_p1VX7"
   },
   "outputs": [],
   "source": [
    "model.compile(optimizer=Adam(learning_rate=0.0001), loss='categorical_crossentropy', metrics=['accuracy'])"
   ]
  },
  {
   "cell_type": "code",
   "execution_count": 19,
   "metadata": {
    "colab": {
     "base_uri": "https://localhost:8080/"
    },
    "id": "z4EN7jwE1Xu5",
    "outputId": "d8047fac-9439-4409-91f3-f905aa9550d9"
   },
   "outputs": [
    {
     "name": "stdout",
     "output_type": "stream",
     "text": [
      "Epoch 1/10\n",
      "8640/8640 [==============================] - 1149s 132ms/step - loss: 2.6699 - accuracy: 0.1886 - val_loss: 2.0038 - val_accuracy: 0.2213\n",
      "Epoch 2/10\n",
      "8640/8640 [==============================] - 1124s 130ms/step - loss: 1.8741 - accuracy: 0.2907 - val_loss: 2.0107 - val_accuracy: 0.2380\n",
      "Epoch 3/10\n",
      "8640/8640 [==============================] - 1105s 128ms/step - loss: 1.5429 - accuracy: 0.4329 - val_loss: 2.1655 - val_accuracy: 0.2359\n",
      "Epoch 4/10\n",
      "8640/8640 [==============================] - 1108s 128ms/step - loss: 1.2031 - accuracy: 0.5689 - val_loss: 2.5361 - val_accuracy: 0.2349\n",
      "Epoch 5/10\n",
      "8640/8640 [==============================] - 1121s 130ms/step - loss: 0.9371 - accuracy: 0.6689 - val_loss: 3.0228 - val_accuracy: 0.2293\n",
      "Epoch 6/10\n",
      "8640/8640 [==============================] - 1132s 131ms/step - loss: 0.7386 - accuracy: 0.7433 - val_loss: 3.5708 - val_accuracy: 0.2339\n",
      "Epoch 7/10\n",
      "8640/8640 [==============================] - 1109s 128ms/step - loss: 0.5899 - accuracy: 0.7966 - val_loss: 4.2100 - val_accuracy: 0.2364\n",
      "Epoch 8/10\n",
      "8640/8640 [==============================] - 1131s 131ms/step - loss: 0.4764 - accuracy: 0.8380 - val_loss: 4.8600 - val_accuracy: 0.2255\n",
      "Epoch 9/10\n",
      "8640/8640 [==============================] - 1129s 131ms/step - loss: 0.3919 - accuracy: 0.8678 - val_loss: 5.4518 - val_accuracy: 0.2315\n",
      "Epoch 10/10\n",
      "8640/8640 [==============================] - 1126s 130ms/step - loss: 0.3290 - accuracy: 0.8893 - val_loss: 6.2075 - val_accuracy: 0.2303\n"
     ]
    }
   ],
   "source": [
    "history = model.fit(x=train_batches,\n",
    "    steps_per_epoch=len(train_batches),\n",
    "    validation_data=valid_batches,\n",
    "    validation_steps=len(valid_batches),\n",
    "    epochs=10,\n",
    "    verbose=1\n",
    ")"
   ]
  },
  {
   "cell_type": "code",
   "execution_count": 20,
   "metadata": {
    "id": "cUIWnKEU1ZwK"
   },
   "outputs": [],
   "source": [
    "import pickle"
   ]
  },
  {
   "cell_type": "code",
   "execution_count": 21,
   "metadata": {
    "colab": {
     "base_uri": "https://localhost:8080/"
    },
    "id": "8Fzl-iU7isTA",
    "outputId": "1a27eb1f-14d9-4ae2-e563-77f5b3cbcf53"
   },
   "outputs": [
    {
     "name": "stdout",
     "output_type": "stream",
     "text": [
      "INFO:tensorflow:Assets written to: ram://c2f44adf-f451-417d-9a5f-d90647a3bc04/assets\n"
     ]
    }
   ],
   "source": [
    "encoded = pickle.dumps(history)"
   ]
  },
  {
   "cell_type": "code",
   "execution_count": 23,
   "metadata": {
    "id": "n1k1WkMpi3sZ"
   },
   "outputs": [],
   "source": [
    "with open(\"/content/drive/My Drive/MLDATA/model_history.bin\" , \"wb\") as file:\n",
    "  file.write(encoded)"
   ]
  },
  {
   "cell_type": "code",
   "execution_count": 24,
   "metadata": {
    "id": "DSJ8E_lSjLMe"
   },
   "outputs": [],
   "source": [
    "# saving the model\n",
    "model.save('/content/drive/My Drive/MLDATA/saved_model.h5')"
   ]
  },
  {
   "cell_type": "code",
   "execution_count": null,
   "metadata": {
    "id": "2eBfpELRjk4h"
   },
   "outputs": [],
   "source": []
  }
 ],
 "metadata": {
  "accelerator": "GPU",
  "colab": {
   "name": "Untitled3.ipynb",
   "provenance": []
  },
  "kernelspec": {
   "display_name": "Python 3",
   "language": "python",
   "name": "python3"
  },
  "language_info": {
   "codemirror_mode": {
    "name": "ipython",
    "version": 3
   },
   "file_extension": ".py",
   "mimetype": "text/x-python",
   "name": "python",
   "nbconvert_exporter": "python",
   "pygments_lexer": "ipython3",
   "version": "3.7.6"
  }
 },
 "nbformat": 4,
 "nbformat_minor": 1
}
